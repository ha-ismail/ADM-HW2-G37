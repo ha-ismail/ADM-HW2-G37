{
 "cells": [
  {
   "cell_type": "code",
   "execution_count": 38,
   "metadata": {},
   "outputs": [],
   "source": [
    "import pandas as pd\n",
    "import matplotlib.pyplot as plt\n",
    "\n",
    "#%matplotlib inline\n",
    "\n",
    "#pd.set_option('display.mpl_style', 'default') # Make the graphs a bit prettier\n",
    "#plt.rcParams['figure.figsize'] = (15, 7)\n",
    "\n",
    "# read zone lookup table\n",
    "zones = 'taxi_zone_lookup.csv'\n",
    "zonesLookup = pd.read_csv(zones)\n",
    "\n",
    "# read taxi data for Jan 2018\n",
    "data='yellow_tripdata_2018-01.csv'\n",
    "data_jan_ = pd.read_csv(data,header=0,\n",
    "        usecols=[\"tpep_pickup_datetime\", \"tpep_dropoff_datetime\", \"passenger_count\",\"trip_distance\",\"PULocationID\",\"DOLocationID\",\"payment_type\",\"fare_amount\",\"total_amount\"],\n",
    "        parse_dates=[\"tpep_pickup_datetime\",\"tpep_dropoff_datetime\"])\n",
    "\n",
    "\n",
    "# Merge the data with taxi zones table (taking only data we need for the QR#2)\n",
    "data_jan= data_jan_.merge(zonesLookup[['LocationID','Borough']],how='inner', left_on='PULocationID', right_on='LocationID')\n"
   ]
  },
  {
   "cell_type": "code",
   "execution_count": 39,
   "metadata": {},
   "outputs": [],
   "source": [
    "data_jan_int = data_jan.select_dtypes(include=['int']).apply(pd.to_numeric,downcast='unsigned')\n",
    "data_jan_float = data_jan.select_dtypes(include=['float']).apply(pd.to_numeric,downcast='float')\n",
    "data_jan_obj = data_jan.select_dtypes(include=['object']).astype('category')\n"
   ]
  },
  {
   "cell_type": "code",
   "execution_count": 40,
   "metadata": {},
   "outputs": [],
   "source": [
    "data_jan_optimized = data_jan.copy()\n",
    "\n",
    "data_jan_optimized[data_jan_int.columns] = data_jan_int\n",
    "data_jan_optimized[data_jan_float.columns] = data_jan_float\n",
    "data_jan_optimized[data_jan_obj.columns] = data_jan_obj"
   ]
  },
  {
   "cell_type": "code",
   "execution_count": 41,
   "metadata": {},
   "outputs": [],
   "source": [
    "data_jan_optimized = data_jan_optimized[data_jan_optimized.passenger_count!=0]\n",
    "data_jan_optimized = data_jan_optimized[data_jan_optimized.trip_distance!=0]"
   ]
  },
  {
   "cell_type": "code",
   "execution_count": 42,
   "metadata": {},
   "outputs": [],
   "source": [
    "# Removing the old dataframes\n",
    "del data_jan_\n",
    "del data_jan"
   ]
  },
  {
   "cell_type": "code",
   "execution_count": 96,
   "metadata": {},
   "outputs": [],
   "source": [
    "import datetime\n",
    "\n",
    "rq3_jan = pd.DataFrame(columns=['Duration','Borough'])\n",
    "rq3_jan['Borough'] = data_jan_optimized['Borough']\n",
    "start = data_jan_optimized['tpep_pickup_datetime']\n",
    "#end   = data_jan_optimized.at[1,'tpep_dropoff_datetime']\n",
    "end = data_jan_optimized['tpep_dropoff_datetime']\n",
    "\n",
    "delta = end-start\n",
    "rq3_jan['Duration'] = delta.dt.seconds/60"
   ]
  },
  {
   "cell_type": "code",
   "execution_count": 97,
   "metadata": {},
   "outputs": [
    {
     "data": {
      "text/html": [
       "<div>\n",
       "<style scoped>\n",
       "    .dataframe tbody tr th:only-of-type {\n",
       "        vertical-align: middle;\n",
       "    }\n",
       "\n",
       "    .dataframe tbody tr th {\n",
       "        vertical-align: top;\n",
       "    }\n",
       "\n",
       "    .dataframe thead th {\n",
       "        text-align: right;\n",
       "    }\n",
       "</style>\n",
       "<table border=\"1\" class=\"dataframe\">\n",
       "  <thead>\n",
       "    <tr style=\"text-align: right;\">\n",
       "      <th></th>\n",
       "      <th>Duration</th>\n",
       "    </tr>\n",
       "  </thead>\n",
       "  <tbody>\n",
       "    <tr>\n",
       "      <th>count</th>\n",
       "      <td>8.646161e+06</td>\n",
       "    </tr>\n",
       "    <tr>\n",
       "      <th>mean</th>\n",
       "      <td>1.575335e+01</td>\n",
       "    </tr>\n",
       "    <tr>\n",
       "      <th>std</th>\n",
       "      <td>6.047627e+01</td>\n",
       "    </tr>\n",
       "    <tr>\n",
       "      <th>min</th>\n",
       "      <td>0.000000e+00</td>\n",
       "    </tr>\n",
       "    <tr>\n",
       "      <th>25%</th>\n",
       "      <td>6.300000e+00</td>\n",
       "    </tr>\n",
       "    <tr>\n",
       "      <th>50%</th>\n",
       "      <td>1.041667e+01</td>\n",
       "    </tr>\n",
       "    <tr>\n",
       "      <th>75%</th>\n",
       "      <td>1.690000e+01</td>\n",
       "    </tr>\n",
       "    <tr>\n",
       "      <th>max</th>\n",
       "      <td>1.439983e+03</td>\n",
       "    </tr>\n",
       "  </tbody>\n",
       "</table>\n",
       "</div>"
      ],
      "text/plain": [
       "           Duration\n",
       "count  8.646161e+06\n",
       "mean   1.575335e+01\n",
       "std    6.047627e+01\n",
       "min    0.000000e+00\n",
       "25%    6.300000e+00\n",
       "50%    1.041667e+01\n",
       "75%    1.690000e+01\n",
       "max    1.439983e+03"
      ]
     },
     "execution_count": 97,
     "metadata": {},
     "output_type": "execute_result"
    }
   ],
   "source": [
    "rq3_jan.describe()"
   ]
  },
  {
   "cell_type": "code",
   "execution_count": 133,
   "metadata": {},
   "outputs": [],
   "source": [
    "# We noticed some entries with duration = 0, so we removed them\n",
    "# there are few values with weird high number, so we restriced our vizulization to max of 80 minutes, in order to get a clear plot\n",
    "rq3_jan=rq3_jan[rq3_jan.Duration!=0]\n",
    "rq3_jan=rq3_jan[rq3_jan.Duration<=60]"
   ]
  },
  {
   "cell_type": "code",
   "execution_count": 109,
   "metadata": {},
   "outputs": [
    {
     "data": {
      "text/html": [
       "<div>\n",
       "<style scoped>\n",
       "    .dataframe tbody tr th:only-of-type {\n",
       "        vertical-align: middle;\n",
       "    }\n",
       "\n",
       "    .dataframe tbody tr th {\n",
       "        vertical-align: top;\n",
       "    }\n",
       "\n",
       "    .dataframe thead th {\n",
       "        text-align: right;\n",
       "    }\n",
       "</style>\n",
       "<table border=\"1\" class=\"dataframe\">\n",
       "  <thead>\n",
       "    <tr style=\"text-align: right;\">\n",
       "      <th></th>\n",
       "      <th>Duration</th>\n",
       "    </tr>\n",
       "  </thead>\n",
       "  <tbody>\n",
       "    <tr>\n",
       "      <th>count</th>\n",
       "      <td>8.630486e+06</td>\n",
       "    </tr>\n",
       "    <tr>\n",
       "      <th>mean</th>\n",
       "      <td>1.325137e+01</td>\n",
       "    </tr>\n",
       "    <tr>\n",
       "      <th>std</th>\n",
       "      <td>1.252679e+01</td>\n",
       "    </tr>\n",
       "    <tr>\n",
       "      <th>min</th>\n",
       "      <td>1.666667e-02</td>\n",
       "    </tr>\n",
       "    <tr>\n",
       "      <th>25%</th>\n",
       "      <td>6.300000e+00</td>\n",
       "    </tr>\n",
       "    <tr>\n",
       "      <th>50%</th>\n",
       "      <td>1.040000e+01</td>\n",
       "    </tr>\n",
       "    <tr>\n",
       "      <th>75%</th>\n",
       "      <td>1.685000e+01</td>\n",
       "    </tr>\n",
       "    <tr>\n",
       "      <th>max</th>\n",
       "      <td>9.999500e+02</td>\n",
       "    </tr>\n",
       "  </tbody>\n",
       "</table>\n",
       "</div>"
      ],
      "text/plain": [
       "           Duration\n",
       "count  8.630486e+06\n",
       "mean   1.325137e+01\n",
       "std    1.252679e+01\n",
       "min    1.666667e-02\n",
       "25%    6.300000e+00\n",
       "50%    1.040000e+01\n",
       "75%    1.685000e+01\n",
       "max    9.999500e+02"
      ]
     },
     "execution_count": 109,
     "metadata": {},
     "output_type": "execute_result"
    }
   ],
   "source": [
    "rq3_jan.describe()"
   ]
  },
  {
   "cell_type": "code",
   "execution_count": 136,
   "metadata": {},
   "outputs": [
    {
     "data": {
      "image/png": "[encoded data removed]",
      "text/plain": [
       "<Figure size 1440x504 with 1 Axes>"
      ]
     },
     "metadata": {
      "needs_background": "light"
     },
     "output_type": "display_data"
    }
   ],
   "source": [
    "import numpy as np\n",
    "import scipy.stats as stats\n",
    "'''hmean = np.mean(rq3_jan['Duration'])\n",
    "hstd = np.std(rq3_jan['Duration'])\n",
    "pdf = stats.norm.pdf(rq3_jan['Duration'], hmean, hstd)\n",
    "plt.plot(rq3_jan['Duration'], pdf)\n",
    "'''\n",
    "#fig, ax = plt.subplots(figsize=(15,7))\n",
    "#rq3_jan['Duration'].plot(ax=ax,kind=\"line\")\n",
    "fig, ax = plt.subplots(figsize=(20,7))\n",
    "# Modify the x-axis to show numbers between 0-23\n",
    "plt.xticks(list(range(0,60,1)))\n",
    "import seaborn as sns\n",
    "from scipy import stats\n",
    "sns.distplot(rq3_jan['Duration'],hist=True, kde=False, \n",
    "             bins=int(180/3), color = 'blue',\n",
    "             hist_kws={'edgecolor':'black'});\n"
   ]
  },
  {
   "cell_type": "code",
   "execution_count": 161,
   "metadata": {},
   "outputs": [
    {
     "data": {
      "image/png": "[encoded data removed]",
      "text/plain": [
       "<Figure size 1440x504 with 1 Axes>"
      ]
     },
     "metadata": {
      "needs_background": "light"
     },
     "output_type": "display_data"
    }
   ],
   "source": [
    "rq3_jan_b = rq3_jan.loc[rq3_jan['Borough']=='Bronx']\n",
    "fig, ax = plt.subplots(figsize=(20,7))\n",
    "plt.xticks(list(range(0,60,1)))\n",
    "sns.distplot(rq3_jan_b['Duration'],hist=True, kde=False, \n",
    "             bins=int(180/3), color = 'blue',\n",
    "             hist_kws={'edgecolor':'black'});\n"
   ]
  },
  {
   "cell_type": "code",
   "execution_count": null,
   "metadata": {},
   "outputs": [],
   "source": [
    "#fig, ax = plt.subplots(figsize=(8,6))\n",
    "#rq3_jan.groupby('Borough').plot(kind='kde', ax=ax)\n",
    "for label, df in rq3_jan.groupby('Borough'):\n",
    "    df.Duration.plot(kind=\"kde\", ax=ax, label=label)\n",
    "plt.legend()"
   ]
  },
  {
   "cell_type": "code",
   "execution_count": null,
   "metadata": {},
   "outputs": [],
   "source": [
    "'''\n",
    "    TODO: We need to concat all months data and perform the above operations\n",
    "'''"
   ]
  }
 ],
 "metadata": {
  "kernelspec": {
   "display_name": "Python 3",
   "language": "python",
   "name": "python3"
  },
  "language_info": {
   "codemirror_mode": {
    "name": "ipython",
    "version": 3
   },
   "file_extension": ".py",
   "mimetype": "text/x-python",
   "name": "python",
   "nbconvert_exporter": "python",
   "pygments_lexer": "ipython3",
   "version": "3.7.0"
  }
 },
 "nbformat": 4,
 "nbformat_minor": 2
}
